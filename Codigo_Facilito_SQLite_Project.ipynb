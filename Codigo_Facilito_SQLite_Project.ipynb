{
  "nbformat": 4,
  "nbformat_minor": 0,
  "metadata": {
    "colab": {
      "provenance": [],
      "authorship_tag": "ABX9TyPfTXnn2HbL26Ne8VDgPLpe",
      "include_colab_link": true
    },
    "kernelspec": {
      "name": "python3",
      "display_name": "Python 3"
    },
    "language_info": {
      "name": "python"
    }
  },
  "cells": [
    {
      "cell_type": "markdown",
      "metadata": {
        "id": "view-in-github",
        "colab_type": "text"
      },
      "source": [
        "<a href=\"https://colab.research.google.com/github/Guy-Ayiti/SQL-Codigo-Facilito/blob/main/Codigo_Facilito_SQLite_Project.ipynb\" target=\"_parent\"><img src=\"https://colab.research.google.com/assets/colab-badge.svg\" alt=\"Open In Colab\"/></a>"
      ]
    },
    {
      "cell_type": "markdown",
      "source": [
        "Cargar Base de Datos"
      ],
      "metadata": {
        "id": "DcFPB4tjFT64"
      }
    },
    {
      "cell_type": "code",
      "execution_count": 126,
      "metadata": {
        "id": "_14pvcyqDrD-"
      },
      "outputs": [],
      "source": [
        "import sqlite3\n",
        "import pandas as pd"
      ]
    },
    {
      "cell_type": "code",
      "source": [
        "conn = sqlite3.connect(\"Escuela.db\")"
      ],
      "metadata": {
        "id": "Ts0bQldBL3F-"
      },
      "execution_count": 127,
      "outputs": []
    },
    {
      "cell_type": "code",
      "source": [
        "query = \"select * from Grupos limit 5\"\n",
        "result = pd.read_sql(query, conn)"
      ],
      "metadata": {
        "id": "FRNvVArYL3Ir"
      },
      "execution_count": null,
      "outputs": []
    },
    {
      "cell_type": "code",
      "source": [
        "print(result)"
      ],
      "metadata": {
        "colab": {
          "base_uri": "https://localhost:8080/"
        },
        "id": "BTOGbIpvL3ML",
        "outputId": "80958214-ae35-4cdf-9e5f-bec8dfefffdf"
      },
      "execution_count": null,
      "outputs": [
        {
          "output_type": "stream",
          "name": "stdout",
          "text": [
            "            id  id_materia  id_profesor Salon   Horario\n",
            "0  GRP-003GKE6  MAT-EI0WGT  PROF-T4YOG3    H3   1:00 pm\n",
            "1  GRP-0247IBB  QUI-21X61U  PROF-TLAR5E    D3   9:00 am\n",
            "2  GRP-030VL8G  FIS-HY0W7Z  PROF-X1HXFZ    I1  10:00 am\n",
            "3  GRP-048IDIN  BIO-LIKMO2  PROF-TLAR5E    D3   2:00 pm\n",
            "4  GRP-059HVY0  DEP-34R7I8  PROF-4EERJG    B4   9:00 am\n"
          ]
        }
      ]
    },
    {
      "cell_type": "markdown",
      "source": [
        "Pregunta 1"
      ],
      "metadata": {
        "id": "rpPhH-uFFBhQ"
      }
    },
    {
      "cell_type": "code",
      "source": [
        "query_1 = \"select Estudiantes.Nombre as Nombre, \\\n",
        "       Estudiantes.Apellido as Apellido, \\\n",
        "       Direcciones.info as Direccion \\\n",
        "from Estudiantes left join Direcciones \\\n",
        "     on Estudiantes.id = Direcciones.id_estudiante\"\n",
        "\n",
        "result = pd.read_sql(query_1, conn)"
      ],
      "metadata": {
        "id": "IIDAJPAgFIPa"
      },
      "execution_count": null,
      "outputs": []
    },
    {
      "cell_type": "code",
      "source": [
        "print(result)"
      ],
      "metadata": {
        "colab": {
          "base_uri": "https://localhost:8080/"
        },
        "id": "zkqZvcZySZEc",
        "outputId": "74d9ceea-72b6-49ac-d044-e39ea41c9993"
      },
      "execution_count": null,
      "outputs": [
        {
          "output_type": "stream",
          "name": "stdout",
          "text": [
            "              Nombre          Apellido         Materia Salon\n",
            "0           Casandra   Portillo Olvera        Física_1    A4\n",
            "1           Casandra   Portillo Olvera       Deporte_1    F2\n",
            "2           Casandra   Portillo Olvera  Programación_2    F4\n",
            "3           Casandra   Portillo Olvera        Inglés_2    D5\n",
            "4           Casandra   Portillo Olvera    Literatura_4    D5\n",
            "...              ...               ...             ...   ...\n",
            "5995  Rubén Wilfredo  Velázquez Flores    Literatura_2    F3\n",
            "5996  Rubén Wilfredo  Velázquez Flores   Matemáticas_2    B4\n",
            "5997  Rubén Wilfredo  Velázquez Flores         Artes_2    K1\n",
            "5998  Rubén Wilfredo  Velázquez Flores      Biología_1    H2\n",
            "5999  Rubén Wilfredo  Velázquez Flores  Programación_1    J3\n",
            "\n",
            "[6000 rows x 4 columns]\n"
          ]
        }
      ]
    },
    {
      "cell_type": "markdown",
      "source": [
        "Pregunta 2"
      ],
      "metadata": {
        "id": "OgFs2K2b2xfh"
      }
    },
    {
      "cell_type": "code",
      "source": [
        "query_2 = \"select Estudiantes.Nombre as Nombre, \\\n",
        "       Estudiantes.Apellido as Apellido, \\\n",
        "       Materias.Nombre as Materia, \\\n",
        "       Grupos.Salon as Salon \\\n",
        "from Estudiantes inner join Inscripciones on Estudiantes.id = Inscripciones.id_estudiante \\\n",
        "                 inner join Grupos on Inscripciones.id_grupo = Grupos.id \\\n",
        "                 inner join Materias on Grupos.id_materia = Materias.id\"\n",
        "\n",
        "result = pd.read_sql(query_2, conn)"
      ],
      "metadata": {
        "id": "-dxb2VODSZH_"
      },
      "execution_count": null,
      "outputs": []
    },
    {
      "cell_type": "code",
      "source": [
        "print(result)"
      ],
      "metadata": {
        "colab": {
          "base_uri": "https://localhost:8080/"
        },
        "id": "izgCvb5XSZRI",
        "outputId": "018fff74-f419-4c3e-8d72-cc2e6ee4eea4"
      },
      "execution_count": null,
      "outputs": [
        {
          "output_type": "stream",
          "name": "stdout",
          "text": [
            "              Nombre          Apellido         Materia Salon\n",
            "0           Casandra   Portillo Olvera        Física_1    A4\n",
            "1           Casandra   Portillo Olvera       Deporte_1    F2\n",
            "2           Casandra   Portillo Olvera  Programación_2    F4\n",
            "3           Casandra   Portillo Olvera        Inglés_2    D5\n",
            "4           Casandra   Portillo Olvera    Literatura_4    D5\n",
            "...              ...               ...             ...   ...\n",
            "5995  Rubén Wilfredo  Velázquez Flores    Literatura_2    F3\n",
            "5996  Rubén Wilfredo  Velázquez Flores   Matemáticas_2    B4\n",
            "5997  Rubén Wilfredo  Velázquez Flores         Artes_2    K1\n",
            "5998  Rubén Wilfredo  Velázquez Flores      Biología_1    H2\n",
            "5999  Rubén Wilfredo  Velázquez Flores  Programación_1    J3\n",
            "\n",
            "[6000 rows x 4 columns]\n"
          ]
        }
      ]
    },
    {
      "cell_type": "markdown",
      "source": [
        "Pregunta 3"
      ],
      "metadata": {
        "id": "Cu21tt7X3NBi"
      }
    },
    {
      "cell_type": "code",
      "source": [
        "query_3 = \"select Profesores.Nombre as Nombre, \\\n",
        "       Profesores.Apellido as Apellido, \\\n",
        "       Materias.Nombre as Nombre, \\\n",
        "       Grupos.Salon as Salon, \\\n",
        "       Grupos.Horario as Horario \\\n",
        "from Profesores left join Grupos on Profesores.id = Grupos.id_profesor \\\n",
        "                left join Materias on Grupos.id_materia = Materias.id\"\n",
        "\n",
        "result = pd.read_sql(query_3, conn)"
      ],
      "metadata": {
        "id": "Qve3NFh03HIv"
      },
      "execution_count": null,
      "outputs": []
    },
    {
      "cell_type": "code",
      "source": [
        "print(result)"
      ],
      "metadata": {
        "colab": {
          "base_uri": "https://localhost:8080/"
        },
        "id": "T-fVDmn73HMF",
        "outputId": "7fc4a985-932b-43f5-f1d6-ace4480c08f9"
      },
      "execution_count": null,
      "outputs": [
        {
          "output_type": "stream",
          "name": "stdout",
          "text": [
            "             Nombre         Apellido                    Nombre Salon   Horario\n",
            "0         Juan Alan  Domínguez Reyes  Comprensión de lectura_2    A1   9:00 am\n",
            "1         Juan Alan  Domínguez Reyes                 Deporte_1    A1   1:00 pm\n",
            "2         Juan Alan  Domínguez Reyes               Geografía_1    A1   2:00 pm\n",
            "3          Leonardo  Vázquez Salazar                   Artes_2    A2   2:00 pm\n",
            "4          Leonardo  Vázquez Salazar                  Física_2    A2   1:00 pm\n",
            "..              ...              ...                       ...   ...       ...\n",
            "361   Bárbara Itxel  Peralta Vázquez               Geografía_2    M1   1:00 pm\n",
            "362            Zaid  Alvarado García  Comprensión de lectura_1    M1  10:00 am\n",
            "363            Zaid  Alvarado García              Literatura_4    M2   1:00 pm\n",
            "364  Debora Betsabé  Escobar Vallejo                  Física_4    M3  10:00 am\n",
            "365  Debora Betsabé  Escobar Vallejo                Historia_2    M3   1:00 pm\n",
            "\n",
            "[366 rows x 5 columns]\n"
          ]
        }
      ]
    },
    {
      "cell_type": "markdown",
      "source": [
        "Pregunta 4"
      ],
      "metadata": {
        "id": "XS_Qn-b73hr2"
      }
    },
    {
      "cell_type": "code",
      "source": [
        "query_4 = \"select (Estudiantes.Nombre || ' ' || Estudiantes.Apellido) as Estudiantes, \\\n",
        "       Materias.Nombre as Materia, \\\n",
        "       Inscripciones.Calificacion as Calificacion, \\\n",
        "       (Profesores.Nombre || ' ' || Profesores.Apellido) as Profesores, \\\n",
        "       Grupos.Salon as Salon \\\n",
        "       from Estudiantes inner join Inscripciones on Estudiantes.id = Inscripciones.id_estudiante \\\n",
        "                 inner join Grupos on Grupos.id = Inscripciones.id_grupo \\\n",
        "                 inner join Materias on Materias.id = Grupos.id_materia \\\n",
        "                 inner join Profesores on Profesores.id = Grupos.id_profesor \\\n",
        "       where Inscripciones.Calificacion < 6\"\n",
        "\n",
        "result = pd.read_sql(query_4, conn)"
      ],
      "metadata": {
        "id": "3lyxOQ9t3HRu"
      },
      "execution_count": null,
      "outputs": []
    },
    {
      "cell_type": "code",
      "source": [
        "print(result)"
      ],
      "metadata": {
        "colab": {
          "base_uri": "https://localhost:8080/"
        },
        "id": "rikO2LyC3HO5",
        "outputId": "786a1c3f-4828-4c78-fd56-db8a684206a9"
      },
      "execution_count": null,
      "outputs": [
        {
          "output_type": "stream",
          "name": "stdout",
          "text": [
            "                          Estudiantes         Materia Calificacion  \\\n",
            "0            Casandra Portillo Olvera       Deporte_1         3.08   \n",
            "1            Casandra Portillo Olvera  Programación_2         0.03   \n",
            "2            Casandra Portillo Olvera        Inglés_2         1.43   \n",
            "3            Casandra Portillo Olvera       Química_4          0.3   \n",
            "4     Teresa Mariana Cardenas Padilla  Programación_2         2.79   \n",
            "...                               ...             ...          ...   \n",
            "3649  Rubén Wilfredo Velázquez Flores    Literatura_2         1.37   \n",
            "3650  Rubén Wilfredo Velázquez Flores   Matemáticas_2         2.46   \n",
            "3651  Rubén Wilfredo Velázquez Flores         Artes_2         2.02   \n",
            "3652  Rubén Wilfredo Velázquez Flores      Biología_1         1.65   \n",
            "3653  Rubén Wilfredo Velázquez Flores  Programación_1         4.15   \n",
            "\n",
            "                        Profesores Salon  \n",
            "0              Enrique Núñez Reyes    F2  \n",
            "1             Vicente Aguilar Peña    F4  \n",
            "2         Orlando Menéndez Peralta    D5  \n",
            "3          Marta Calderón Espinoza    C4  \n",
            "4     Isabel Belén Venegas Beltrán    G1  \n",
            "...                            ...   ...  \n",
            "3649         Gerardo Rocha Peralta    F3  \n",
            "3650  Brenda Elena Medina Quintero    B4  \n",
            "3651      Clara Castellanos Olvera    K1  \n",
            "3652  Orlando Juan Espinoza Arroyo    H2  \n",
            "3653  Ismael Alejandro Montes Díaz    J3  \n",
            "\n",
            "[3654 rows x 5 columns]\n"
          ]
        }
      ]
    },
    {
      "cell_type": "markdown",
      "source": [
        "Pregunta 5"
      ],
      "metadata": {
        "id": "1eLBWQJ15ZWy"
      }
    },
    {
      "cell_type": "code",
      "source": [
        "query_5 = \"select Materias.Nombre as Materias, \\\n",
        "       count( distinct Estudiantes.id ) as Numero_Estudiantes \\\n",
        "       from Estudiantes inner join Inscripciones on Estudiantes.id = Inscripciones.id_estudiante \\\n",
        "                 inner join Grupos on Grupos.id = Inscripciones.id_grupo \\\n",
        "                 inner join Materias on Materias.id = Grupos.id_materia \\\n",
        "                 inner join Profesores on Profesores.id = Grupos.id_profesor \\\n",
        "       group by Materias.Nombre \\\n",
        "       order by Numero_Estudiantes desc\"\n",
        "\n",
        "result = pd.read_sql(query_5, conn)"
      ],
      "metadata": {
        "id": "l-0fnKps3HUe"
      },
      "execution_count": null,
      "outputs": []
    },
    {
      "cell_type": "code",
      "source": [
        "print(result)"
      ],
      "metadata": {
        "colab": {
          "base_uri": "https://localhost:8080/"
        },
        "id": "xy7ONFXO3HXN",
        "outputId": "b5911055-f512-4967-da59-3ef5085c29ac"
      },
      "execution_count": null,
      "outputs": [
        {
          "output_type": "stream",
          "name": "stdout",
          "text": [
            "                    Materias  Numero_Estudiantes\n",
            "0                   Inglés_1                 274\n",
            "1                Geografía_2                 274\n",
            "2                  Deporte_1                 269\n",
            "3             Programación_2                 260\n",
            "4                 Historia_2                 255\n",
            "5                    Artes_2                 252\n",
            "6   Comprensión de lectura_2                 249\n",
            "7                    Artes_1                 247\n",
            "8                  Deporte_2                 245\n",
            "9             Programación_1                 242\n",
            "10                  Inglés_2                 240\n",
            "11  Comprensión de lectura_1                 238\n",
            "12               Geografía_1                 233\n",
            "13                Historia_1                 230\n",
            "14                 Química_3                 141\n",
            "15              Literatura_2                 133\n",
            "16              Literatura_1                 133\n",
            "17                Biología_1                 131\n",
            "18              Literatura_3                 128\n",
            "19                 Química_2                 126\n",
            "20                  Física_4                 125\n",
            "21                  Física_1                 125\n",
            "22                  Física_2                 124\n",
            "23                 Química_4                 123\n",
            "24              Literatura_4                 122\n",
            "25                Biología_3                 120\n",
            "26                  Física_3                 119\n",
            "27                Biología_4                 118\n",
            "28                Biología_2                 117\n",
            "29                 Química_1                 114\n",
            "30             Matemáticas_5                  88\n",
            "31             Matemáticas_4                  87\n",
            "32             Matemáticas_1                  87\n",
            "33             Matemáticas_3                  79\n",
            "34             Matemáticas_6                  73\n",
            "35             Matemáticas_2                  72\n"
          ]
        }
      ]
    },
    {
      "cell_type": "markdown",
      "source": [
        "Pregunta 6"
      ],
      "metadata": {
        "id": "vpMVsbBJ7o3W"
      }
    },
    {
      "cell_type": "code",
      "source": [
        "query_6 = \"select Grupos.Salon as Salon, \\\n",
        "       Grupos.Horario as Horario, \\\n",
        "       count(distinct materias.id) \\\n",
        "from Grupos left join Materias on Grupos.id_materia = Materias.id \\\n",
        "group by Salon, Horario\"\n",
        "\n",
        "result = pd.read_sql(query_6, conn)"
      ],
      "metadata": {
        "id": "2mvbozpI3HaQ"
      },
      "execution_count": null,
      "outputs": []
    },
    {
      "cell_type": "code",
      "source": [
        "print(result)"
      ],
      "metadata": {
        "colab": {
          "base_uri": "https://localhost:8080/"
        },
        "id": "2z8voaQH3Hc2",
        "outputId": "47338ed4-29a0-4968-8945-a0968de7380f"
      },
      "execution_count": null,
      "outputs": [
        {
          "output_type": "stream",
          "name": "stdout",
          "text": [
            "    Salon   Horario  count(distinct materias.id)\n",
            "0      A1  10:00 am                            1\n",
            "1      A1  11:00 am                            1\n",
            "2      A1  12:00 pm                            1\n",
            "3      A1   1:00 pm                            1\n",
            "4      A1   2:00 pm                            1\n",
            "..    ...       ...                          ...\n",
            "364    M4   9:00 am                            1\n",
            "365    M5  10:00 am                            1\n",
            "366    M5   1:00 pm                            1\n",
            "367    M5   2:00 pm                            1\n",
            "368    M5   9:00 am                            1\n",
            "\n",
            "[369 rows x 3 columns]\n"
          ]
        }
      ]
    },
    {
      "cell_type": "markdown",
      "source": [
        "Pregunta 7"
      ],
      "metadata": {
        "id": "_i7V3q1W8AHO"
      }
    },
    {
      "cell_type": "code",
      "source": [
        "query_7 = \"select json_extract(info, '$.colonia') as Colonia, \\\n",
        "       min(Calificacion) as Calif_Min, \\\n",
        "       max(Calificacion) as Calif_Max, \\\n",
        "       round(avg(Calificacion), 2) as Calif_Promedio, \\\n",
        "       count( distinct Estudiantes.id) as Conteo_Categoria \\\n",
        "from Estudiantes inner join Inscripciones on Estudiantes.id = Inscripciones.id_estudiante \\\n",
        "                 inner join Direcciones on Estudiantes.id = Direcciones.id_estudiante \\\n",
        "where json_extract(info, '$.colonia') is not null \\\n",
        "group by json_extract(info, '$.colonia')  \\\n",
        "order by Conteo_Categoria desc, avg(Calificacion) desc\"\n",
        "\n",
        "result = pd.read_sql(query_7, conn)"
      ],
      "metadata": {
        "id": "X2f36J513Hfj"
      },
      "execution_count": null,
      "outputs": []
    },
    {
      "cell_type": "markdown",
      "source": [
        "Esta parte me marca error, dando a entender que no reconoce el formato JSON de la columna info de la tabla Direcciones."
      ],
      "metadata": {
        "id": "ADtmEvq0fGXJ"
      }
    },
    {
      "cell_type": "markdown",
      "source": [
        "Pero corriendo este mismo codigo en un editor de bases de datos me da el resultado deseado."
      ],
      "metadata": {
        "id": "ObbjMxEnfTjv"
      }
    },
    {
      "cell_type": "code",
      "source": [
        "query = \"select info from Direcciones limit 5\"\n",
        "print( pd.read_sql( query, conn) )"
      ],
      "metadata": {
        "colab": {
          "base_uri": "https://localhost:8080/"
        },
        "id": "TDaJM1Pc3Hh8",
        "outputId": "1b960a92-8d93-4310-b633-3f07918a89ac"
      },
      "execution_count": 140,
      "outputs": [
        {
          "output_type": "stream",
          "name": "stdout",
          "text": [
            "                                                info\n",
            "0                          {'delegacion': 'Tláhuac'}\n",
            "1            {'delegacion': 'Tláhuac', 'numero': 50}\n",
            "2  {'colonia': 'Copilco Universidad', 'calle': ' ...\n",
            "3  {'colonia': 'San Juan', 'delegacion': 'Xochimi...\n",
            "4                     {'delegacion': 'Azcapotzalco'}\n"
          ]
        }
      ]
    },
    {
      "cell_type": "code",
      "source": [
        "#query = \"SELECT json_extract('{\\\"name\\\": \\\"Alice\\\", \\\"age\\\": 22}', '$.name') AS result\"\n",
        "#query = \"SELECT json_extract(info,'$') from Direcciones limit 5\"\n"
      ],
      "metadata": {
        "id": "6huI9HKz3Hkx"
      },
      "execution_count": null,
      "outputs": []
    },
    {
      "cell_type": "code",
      "source": [],
      "metadata": {
        "id": "LKCZLnvR3HtK"
      },
      "execution_count": null,
      "outputs": []
    }
  ]
}